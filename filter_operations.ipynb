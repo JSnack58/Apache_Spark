{
 "cells": [
  {
   "cell_type": "code",
   "execution_count": 2,
   "metadata": {},
   "outputs": [],
   "source": [
    "from pyspark.sql import SparkSession"
   ]
  },
  {
   "cell_type": "code",
   "execution_count": 3,
   "metadata": {},
   "outputs": [
    {
     "name": "stderr",
     "output_type": "stream",
     "text": [
      "24/03/26 12:31:27 WARN Utils: Your hostname, anthony-X570-AORUS-MASTER resolves to a loopback address: 127.0.1.1; using 192.168.1.15 instead (on interface wlp4s0)\n",
      "24/03/26 12:31:27 WARN Utils: Set SPARK_LOCAL_IP if you need to bind to another address\n",
      "Setting default log level to \"WARN\".\n",
      "To adjust logging level use sc.setLogLevel(newLevel). For SparkR, use setLogLevel(newLevel).\n",
      "24/03/26 12:31:28 WARN NativeCodeLoader: Unable to load native-hadoop library for your platform... using builtin-java classes where applicable\n"
     ]
    }
   ],
   "source": [
    "spark = SparkSession.builder.appName(\"dataframe\").getOrCreate()"
   ]
  },
  {
   "cell_type": "code",
   "execution_count": 16,
   "metadata": {},
   "outputs": [],
   "source": [
    "df_pyspark = spark.read.csv(\"missing_values_data.csv\", header=True, inferSchema=True)"
   ]
  },
  {
   "cell_type": "code",
   "execution_count": 17,
   "metadata": {},
   "outputs": [
    {
     "name": "stdout",
     "output_type": "stream",
     "text": [
      "+---------+----+----------+------+\n",
      "|     Name| Age|Experience|Salary|\n",
      "+---------+----+----------+------+\n",
      "|   Amelia|  24|         1|300000|\n",
      "| Benjamin|  55|         9|250000|\n",
      "|Charlotte|  82|         3|200000|\n",
      "|    David|  87|      NULL|350000|\n",
      "|     Emma|NULL|         0|150000|\n",
      "| Jennifer|  67|         5|250000|\n",
      "|Charlotte|  82|         3|200000|\n",
      "|    David|NULL|      NULL|350000|\n",
      "|     Emma|  43|         0|150000|\n",
      "|    Chase|NULL|         1|100000|\n",
      "|     Adam|  34|         1|100000|\n",
      "+---------+----+----------+------+\n",
      "\n"
     ]
    }
   ],
   "source": [
    "df_pyspark.show()"
   ]
  },
  {
   "cell_type": "code",
   "execution_count": 19,
   "metadata": {},
   "outputs": [
    {
     "name": "stdout",
     "output_type": "stream",
     "text": [
      "+---------+----+----------+------+\n",
      "|     Name| Age|Experience|Salary|\n",
      "+---------+----+----------+------+\n",
      "|Charlotte|  82|         3|200000|\n",
      "|     Emma|NULL|         0|150000|\n",
      "|Charlotte|  82|         3|200000|\n",
      "|     Emma|  43|         0|150000|\n",
      "|    Chase|NULL|         1|100000|\n",
      "|     Adam|  34|         1|100000|\n",
      "+---------+----+----------+------+\n",
      "\n"
     ]
    }
   ],
   "source": [
    "# Salary of people less than or equeal to 2000000\n",
    "df_pyspark.filter(\"Salary<=200000\").show()"
   ]
  },
  {
   "cell_type": "code",
   "execution_count": 20,
   "metadata": {},
   "outputs": [
    {
     "name": "stdout",
     "output_type": "stream",
     "text": [
      "+---------+----+\n",
      "|     Name| Age|\n",
      "+---------+----+\n",
      "|Charlotte|  82|\n",
      "|     Emma|NULL|\n",
      "|Charlotte|  82|\n",
      "|     Emma|  43|\n",
      "|    Chase|NULL|\n",
      "|     Adam|  34|\n",
      "+---------+----+\n",
      "\n"
     ]
    }
   ],
   "source": [
    "\n",
    "# Salary of people less than or equeal to 2000000\n",
    "df_pyspark.filter(\"Salary<=200000\").select([\"Name\", \"Age\"]).show()"
   ]
  },
  {
   "cell_type": "code",
   "execution_count": 21,
   "metadata": {},
   "outputs": [
    {
     "name": "stdout",
     "output_type": "stream",
     "text": [
      "+---------+----+----------+------+\n",
      "|     Name| Age|Experience|Salary|\n",
      "+---------+----+----------+------+\n",
      "|Charlotte|  82|         3|200000|\n",
      "|     Emma|NULL|         0|150000|\n",
      "|Charlotte|  82|         3|200000|\n",
      "|     Emma|  43|         0|150000|\n",
      "|    Chase|NULL|         1|100000|\n",
      "|     Adam|  34|         1|100000|\n",
      "+---------+----+----------+------+\n",
      "\n"
     ]
    }
   ],
   "source": [
    "\n",
    "# Salary of people less than or equeal to 2000000\n",
    "df_pyspark.filter(df_pyspark['Salary'] <= 200000).show()"
   ]
  },
  {
   "cell_type": "code",
   "execution_count": 24,
   "metadata": {},
   "outputs": [
    {
     "name": "stdout",
     "output_type": "stream",
     "text": [
      "+---------+---+----------+------+\n",
      "|     Name|Age|Experience|Salary|\n",
      "+---------+---+----------+------+\n",
      "|Charlotte| 82|         3|200000|\n",
      "|Charlotte| 82|         3|200000|\n",
      "|     Emma| 43|         0|150000|\n",
      "|     Adam| 34|         1|100000|\n",
      "+---------+---+----------+------+\n",
      "\n"
     ]
    }
   ],
   "source": [
    "# Salary of people less than or equeal to 2000000, and Age greater than 20\n",
    "df_pyspark.filter((df_pyspark['Salary'] <= 200000) & (df_pyspark['Age'] > 20)).show()"
   ]
  },
  {
   "cell_type": "code",
   "execution_count": 27,
   "metadata": {},
   "outputs": [
    {
     "name": "stdout",
     "output_type": "stream",
     "text": [
      "+---------+----+----------+------+\n",
      "|     Name| Age|Experience|Salary|\n",
      "+---------+----+----------+------+\n",
      "|   Amelia|  24|         1|300000|\n",
      "| Benjamin|  55|         9|250000|\n",
      "|Charlotte|  82|         3|200000|\n",
      "|    David|  87|      NULL|350000|\n",
      "|     Emma|NULL|         0|150000|\n",
      "| Jennifer|  67|         5|250000|\n",
      "|Charlotte|  82|         3|200000|\n",
      "|    David|NULL|      NULL|350000|\n",
      "|     Emma|  43|         0|150000|\n",
      "|    Chase|NULL|         1|100000|\n",
      "|     Adam|  34|         1|100000|\n",
      "+---------+----+----------+------+\n",
      "\n"
     ]
    }
   ],
   "source": [
    "df_pyspark.filter((df_pyspark['Salary'] > 200000) | (df_pyspark['Salary'] < 300000)).show()"
   ]
  },
  {
   "cell_type": "code",
   "execution_count": null,
   "metadata": {},
   "outputs": [],
   "source": []
  },
  {
   "cell_type": "code",
   "execution_count": null,
   "metadata": {},
   "outputs": [],
   "source": []
  },
  {
   "cell_type": "code",
   "execution_count": null,
   "metadata": {},
   "outputs": [],
   "source": []
  },
  {
   "cell_type": "code",
   "execution_count": null,
   "metadata": {},
   "outputs": [],
   "source": []
  }
 ],
 "metadata": {
  "kernelspec": {
   "display_name": "Apache-Spark",
   "language": "python",
   "name": "apache-spark"
  },
  "language_info": {
   "codemirror_mode": {
    "name": "ipython",
    "version": 3
   },
   "file_extension": ".py",
   "mimetype": "text/x-python",
   "name": "python",
   "nbconvert_exporter": "python",
   "pygments_lexer": "ipython3",
   "version": "3.10.12"
  }
 },
 "nbformat": 4,
 "nbformat_minor": 2
}
