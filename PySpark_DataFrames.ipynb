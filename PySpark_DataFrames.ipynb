{
 "cells": [
  {
   "cell_type": "code",
   "execution_count": 2,
   "metadata": {},
   "outputs": [],
   "source": [
    "from pyspark.sql import SparkSession"
   ]
  },
  {
   "cell_type": "code",
   "execution_count": 3,
   "metadata": {},
   "outputs": [
    {
     "name": "stderr",
     "output_type": "stream",
     "text": [
      "24/03/25 20:25:16 WARN Utils: Your hostname, anthony-X570-AORUS-MASTER resolves to a loopback address: 127.0.1.1; using 192.168.1.15 instead (on interface wlp4s0)\n",
      "24/03/25 20:25:16 WARN Utils: Set SPARK_LOCAL_IP if you need to bind to another address\n",
      "Setting default log level to \"WARN\".\n",
      "To adjust logging level use sc.setLogLevel(newLevel). For SparkR, use setLogLevel(newLevel).\n",
      "24/03/25 20:25:16 WARN NativeCodeLoader: Unable to load native-hadoop library for your platform... using builtin-java classes where applicable\n"
     ]
    },
    {
     "data": {
      "text/html": [
       "\n",
       "            <div>\n",
       "                <p><b>SparkSession - in-memory</b></p>\n",
       "                \n",
       "        <div>\n",
       "            <p><b>SparkContext</b></p>\n",
       "\n",
       "            <p><a href=\"http://192.168.1.15:4040\">Spark UI</a></p>\n",
       "\n",
       "            <dl>\n",
       "              <dt>Version</dt>\n",
       "                <dd><code>v3.5.1</code></dd>\n",
       "              <dt>Master</dt>\n",
       "                <dd><code>local[*]</code></dd>\n",
       "              <dt>AppName</dt>\n",
       "                <dd><code>Dataframe</code></dd>\n",
       "            </dl>\n",
       "        </div>\n",
       "        \n",
       "            </div>\n",
       "        "
      ],
      "text/plain": [
       "<pyspark.sql.session.SparkSession at 0x7a036b8fa440>"
      ]
     },
     "execution_count": 3,
     "metadata": {},
     "output_type": "execute_result"
    }
   ],
   "source": [
    "spark = SparkSession.builder.appName(\"Dataframe\").getOrCreate()\n",
    "spark"
   ]
  },
  {
   "cell_type": "code",
   "execution_count": 23,
   "metadata": {},
   "outputs": [
    {
     "name": "stdout",
     "output_type": "stream",
     "text": [
      "+---------+---+----------+\n",
      "|     Name|Age|Experience|\n",
      "+---------+---+----------+\n",
      "|   Amelia| 24|         1|\n",
      "| Benjamin| 55|         9|\n",
      "|Charlotte| 82|         3|\n",
      "|    David| 87|         7|\n",
      "|     Emma| 43|         0|\n",
      "+---------+---+----------+\n",
      "\n"
     ]
    }
   ],
   "source": [
    "# Read dataset\n",
    "df_pyspark = spark.read.option('header', 'true').csv('PySpark_DataFrames_Dataset.csv').show()\n",
    "df_pyspark = spark.read.option('header', 'true').csv('PySpark_DataFrames_Dataset.csv')"
   ]
  },
  {
   "cell_type": "code",
   "execution_count": 24,
   "metadata": {},
   "outputs": [
    {
     "name": "stdout",
     "output_type": "stream",
     "text": [
      "root\n",
      " |-- Name: string (nullable = true)\n",
      " |-- Age: string (nullable = true)\n",
      " |-- Experience: string (nullable = true)\n",
      "\n",
      "root\n",
      " |-- Name: string (nullable = true)\n",
      " |-- Age: integer (nullable = true)\n",
      " |-- Experience: integer (nullable = true)\n",
      "\n"
     ]
    }
   ],
   "source": [
    "# Notice Age and Experience are strings and not integers.\n",
    "df_pyspark.printSchema()\n",
    "\n",
    "# To remedy this, we must have spark infer the Schema.\n",
    "df_pyspark = spark.read.option('header', 'true').csv('PySpark_DataFrames_Dataset.csv', inferSchema=True)\n",
    "df_pyspark.printSchema()"
   ]
  },
  {
   "cell_type": "code",
   "execution_count": 25,
   "metadata": {},
   "outputs": [
    {
     "name": "stdout",
     "output_type": "stream",
     "text": [
      "['Name', 'Age', 'Experience']\n",
      "[Row(Name='Amelia', Age=24, Experience=1), Row(Name='Benjamin', Age=55, Experience=9), Row(Name='Charlotte', Age=82, Experience=3)]\n",
      "DataFrame[Name: string]\n",
      "+---------+\n",
      "|     Name|\n",
      "+---------+\n",
      "|   Amelia|\n",
      "| Benjamin|\n",
      "|Charlotte|\n",
      "|    David|\n",
      "|     Emma|\n",
      "+---------+\n",
      "\n",
      "+---------+----------+\n",
      "|     Name|Experience|\n",
      "+---------+----------+\n",
      "|   Amelia|         1|\n",
      "| Benjamin|         9|\n",
      "|Charlotte|         3|\n",
      "|    David|         7|\n",
      "|     Emma|         0|\n",
      "+---------+----------+\n",
      "\n",
      "[('Name', 'string'), ('Age', 'int'), ('Experience', 'int')]\n",
      "+-------+------+----------------+-----------------+\n",
      "|summary|  Name|             Age|       Experience|\n",
      "+-------+------+----------------+-----------------+\n",
      "|  count|     5|               5|                5|\n",
      "|   mean|  NULL|            58.2|              4.0|\n",
      "| stddev|  NULL|26.4896206088347|3.872983346207417|\n",
      "|    min|Amelia|              24|                0|\n",
      "|    max|  Emma|              87|                9|\n",
      "+-------+------+----------------+-----------------+\n",
      "\n"
     ]
    }
   ],
   "source": [
    "# Create a\n",
    "print(df_pyspark.columns)\n",
    "print(df_pyspark.head(3))\n",
    "print(df_pyspark.select('Name'))\n",
    "df_pyspark.select('Name').show()\n",
    "df_pyspark.select(['Name', 'Experience']).show()\n",
    "print(df_pyspark.dtypes)\n",
    "df_pyspark.describe()\n",
    "df_pyspark.describe().show()\n",
    "\n"
   ]
  },
  {
   "cell_type": "code",
   "execution_count": 26,
   "metadata": {},
   "outputs": [],
   "source": [
    "# Adding Columns\n",
    "df_pyspark = df_pyspark.withColumn('Experience After 2 years', df_pyspark['Experience']+2)"
   ]
  },
  {
   "cell_type": "code",
   "execution_count": 27,
   "metadata": {},
   "outputs": [
    {
     "name": "stdout",
     "output_type": "stream",
     "text": [
      "+---------+---+----------+------------------------+\n",
      "|     Name|Age|Experience|Experience After 2 years|\n",
      "+---------+---+----------+------------------------+\n",
      "|   Amelia| 24|         1|                       3|\n",
      "| Benjamin| 55|         9|                      11|\n",
      "|Charlotte| 82|         3|                       5|\n",
      "|    David| 87|         7|                       9|\n",
      "|     Emma| 43|         0|                       2|\n",
      "+---------+---+----------+------------------------+\n",
      "\n"
     ]
    }
   ],
   "source": [
    "df_pyspark.show()"
   ]
  },
  {
   "cell_type": "code",
   "execution_count": 28,
   "metadata": {},
   "outputs": [
    {
     "name": "stdout",
     "output_type": "stream",
     "text": [
      "+---------+---+----------+\n",
      "|     Name|Age|Experience|\n",
      "+---------+---+----------+\n",
      "|   Amelia| 24|         1|\n",
      "| Benjamin| 55|         9|\n",
      "|Charlotte| 82|         3|\n",
      "|    David| 87|         7|\n",
      "|     Emma| 43|         0|\n",
      "+---------+---+----------+\n",
      "\n"
     ]
    }
   ],
   "source": [
    "# Droping Columns\n",
    "df_pyspark = df_pyspark.drop('Experience After 2 years')\n",
    "df_pyspark.show()"
   ]
  },
  {
   "cell_type": "code",
   "execution_count": 29,
   "metadata": {},
   "outputs": [
    {
     "name": "stdout",
     "output_type": "stream",
     "text": [
      "+---------+---+----------+\n",
      "| New Name|Age|Experience|\n",
      "+---------+---+----------+\n",
      "|   Amelia| 24|         1|\n",
      "| Benjamin| 55|         9|\n",
      "|Charlotte| 82|         3|\n",
      "|    David| 87|         7|\n",
      "|     Emma| 43|         0|\n",
      "+---------+---+----------+\n",
      "\n"
     ]
    }
   ],
   "source": [
    "# Rename Column\n",
    "df_pyspark = df_pyspark.withColumnRenamed('Name', 'New Name')\n",
    "df_pyspark.show()"
   ]
  }
 ],
 "metadata": {
  "kernelspec": {
   "display_name": "Apache-Spark",
   "language": "python",
   "name": "apache-spark"
  },
  "language_info": {
   "codemirror_mode": {
    "name": "ipython",
    "version": 3
   },
   "file_extension": ".py",
   "mimetype": "text/x-python",
   "name": "python",
   "nbconvert_exporter": "python",
   "pygments_lexer": "ipython3",
   "version": "3.10.12"
  }
 },
 "nbformat": 4,
 "nbformat_minor": 2
}
