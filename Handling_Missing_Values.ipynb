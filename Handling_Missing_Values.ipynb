{
 "cells": [
  {
   "cell_type": "code",
   "execution_count": 1,
   "metadata": {},
   "outputs": [],
   "source": [
    "from pyspark.sql import SparkSession"
   ]
  },
  {
   "cell_type": "code",
   "execution_count": 2,
   "metadata": {},
   "outputs": [
    {
     "name": "stderr",
     "output_type": "stream",
     "text": [
      "24/03/26 09:32:04 WARN Utils: Your hostname, anthony-X570-AORUS-MASTER resolves to a loopback address: 127.0.1.1; using 192.168.1.15 instead (on interface wlp4s0)\n",
      "24/03/26 09:32:04 WARN Utils: Set SPARK_LOCAL_IP if you need to bind to another address\n",
      "Setting default log level to \"WARN\".\n",
      "To adjust logging level use sc.setLogLevel(newLevel). For SparkR, use setLogLevel(newLevel).\n",
      "24/03/26 09:32:05 WARN NativeCodeLoader: Unable to load native-hadoop library for your platform... using builtin-java classes where applicable\n"
     ]
    }
   ],
   "source": [
    "spark = SparkSession.builder.appName(\"Missing_Values\").getOrCreate()"
   ]
  },
  {
   "cell_type": "code",
   "execution_count": 8,
   "metadata": {},
   "outputs": [],
   "source": [
    "df_pyspark = spark.read.csv(\"missing_values_data.csv\", header=True, inferSchema=True)"
   ]
  },
  {
   "cell_type": "code",
   "execution_count": 9,
   "metadata": {},
   "outputs": [
    {
     "name": "stdout",
     "output_type": "stream",
     "text": [
      "+---------+----+----------+------+\n",
      "|     Name| Age|Experience|Salary|\n",
      "+---------+----+----------+------+\n",
      "|   Amelia|  24|         1| 30000|\n",
      "| Benjamin|  55|         9| 25000|\n",
      "|Charlotte|  82|         3| 20000|\n",
      "|    David|  87|      NULL| 35000|\n",
      "|     Emma|NULL|         0| 15000|\n",
      "| Jennifer|  67|         5| 25000|\n",
      "|Charlotte|  82|         3| 20000|\n",
      "|    David|NULL|      NULL| 35000|\n",
      "|     Emma|  43|         0| 15000|\n",
      "|    Chase|NULL|         1| 10000|\n",
      "|     Adam|  34|         1| 10000|\n",
      "+---------+----+----------+------+\n",
      "\n"
     ]
    }
   ],
   "source": [
    "# Empy values should appear as null, if not and it's just an empty space then there are spaces in csv file.\n",
    "# CORRECT: Emma,,0,150000\n",
    "# INCORRECT(space between commas): Emma, ,0,150000\n",
    "df_pyspark.show()"
   ]
  },
  {
   "cell_type": "code",
   "execution_count": 10,
   "metadata": {},
   "outputs": [
    {
     "name": "stdout",
     "output_type": "stream",
     "text": [
      "+----+----------+------+\n",
      "| Age|Experience|Salary|\n",
      "+----+----------+------+\n",
      "|  24|         1| 30000|\n",
      "|  55|         9| 25000|\n",
      "|  82|         3| 20000|\n",
      "|  87|      NULL| 35000|\n",
      "|NULL|         0| 15000|\n",
      "|  67|         5| 25000|\n",
      "|  82|         3| 20000|\n",
      "|NULL|      NULL| 35000|\n",
      "|  43|         0| 15000|\n",
      "|NULL|         1| 10000|\n",
      "|  34|         1| 10000|\n",
      "+----+----------+------+\n",
      "\n"
     ]
    }
   ],
   "source": [
    "# drop column\n",
    "df_pyspark.drop('Name').show()"
   ]
  },
  {
   "cell_type": "code",
   "execution_count": 11,
   "metadata": {},
   "outputs": [
    {
     "name": "stdout",
     "output_type": "stream",
     "text": [
      "+---------+---+----------+------+\n",
      "|     Name|Age|Experience|Salary|\n",
      "+---------+---+----------+------+\n",
      "|   Amelia| 24|         1| 30000|\n",
      "| Benjamin| 55|         9| 25000|\n",
      "|Charlotte| 82|         3| 20000|\n",
      "| Jennifer| 67|         5| 25000|\n",
      "|Charlotte| 82|         3| 20000|\n",
      "|     Emma| 43|         0| 15000|\n",
      "|     Adam| 34|         1| 10000|\n",
      "+---------+---+----------+------+\n",
      "\n"
     ]
    }
   ],
   "source": [
    "# Drop null all null values.\n",
    "df_pyspark.na.drop().show()"
   ]
  },
  {
   "cell_type": "code",
   "execution_count": 13,
   "metadata": {},
   "outputs": [
    {
     "name": "stdout",
     "output_type": "stream",
     "text": [
      "+---------+----+----------+------+\n",
      "|     Name| Age|Experience|Salary|\n",
      "+---------+----+----------+------+\n",
      "|   Amelia|  24|         1| 30000|\n",
      "| Benjamin|  55|         9| 25000|\n",
      "|Charlotte|  82|         3| 20000|\n",
      "|    David|  87|      NULL| 35000|\n",
      "|     Emma|NULL|         0| 15000|\n",
      "| Jennifer|  67|         5| 25000|\n",
      "|Charlotte|  82|         3| 20000|\n",
      "|    David|NULL|      NULL| 35000|\n",
      "|     Emma|  43|         0| 15000|\n",
      "|    Chase|NULL|         1| 10000|\n",
      "|     Adam|  34|         1| 10000|\n",
      "+---------+----+----------+------+\n",
      "\n",
      "+---------+---+----------+------+\n",
      "|     Name|Age|Experience|Salary|\n",
      "+---------+---+----------+------+\n",
      "|   Amelia| 24|         1| 30000|\n",
      "| Benjamin| 55|         9| 25000|\n",
      "|Charlotte| 82|         3| 20000|\n",
      "| Jennifer| 67|         5| 25000|\n",
      "|Charlotte| 82|         3| 20000|\n",
      "|     Emma| 43|         0| 15000|\n",
      "|     Adam| 34|         1| 10000|\n",
      "+---------+---+----------+------+\n",
      "\n"
     ]
    }
   ],
   "source": [
    "#  any==how\n",
    "# Drop any Rows with all null values.\n",
    "df_pyspark.na.drop(how=\"all\").show()\n",
    "# Drop any Rows with any null values.\n",
    "df_pyspark.na.drop(how=\"any\").show()"
   ]
  },
  {
   "cell_type": "code",
   "execution_count": 28,
   "metadata": {},
   "outputs": [
    {
     "name": "stdout",
     "output_type": "stream",
     "text": [
      "+---------+---+----------+------+\n",
      "|     Name|Age|Experience|Salary|\n",
      "+---------+---+----------+------+\n",
      "|   Amelia| 24|         1| 30000|\n",
      "| Benjamin| 55|         9| 25000|\n",
      "|Charlotte| 82|         3| 20000|\n",
      "| Jennifer| 67|         5| 25000|\n",
      "|Charlotte| 82|         3| 20000|\n",
      "|     Emma| 43|         0| 15000|\n",
      "|     Adam| 34|         1| 10000|\n",
      "+---------+---+----------+------+\n",
      "\n"
     ]
    }
   ],
   "source": [
    "# Threshold\n",
    "# Drop any Rows that don't have at least #thresh of defined values\n",
    "df_pyspark.na.drop(how=\"any\", thresh=4).show()"
   ]
  },
  {
   "cell_type": "code",
   "execution_count": 29,
   "metadata": {},
   "outputs": [
    {
     "name": "stdout",
     "output_type": "stream",
     "text": [
      "+---------+----+----------+------+\n",
      "|     Name| Age|Experience|Salary|\n",
      "+---------+----+----------+------+\n",
      "|   Amelia|  24|         1| 30000|\n",
      "| Benjamin|  55|         9| 25000|\n",
      "|Charlotte|  82|         3| 20000|\n",
      "|     Emma|NULL|         0| 15000|\n",
      "| Jennifer|  67|         5| 25000|\n",
      "|Charlotte|  82|         3| 20000|\n",
      "|     Emma|  43|         0| 15000|\n",
      "|    Chase|NULL|         1| 10000|\n",
      "|     Adam|  34|         1| 10000|\n",
      "+---------+----+----------+------+\n",
      "\n"
     ]
    }
   ],
   "source": [
    "# Subset\n",
    "# Dropa any Rows that have a NULL value in specified subset columns.\n",
    "df_pyspark.na.drop(how=\"any\", subset=['Experience']).show()\n"
   ]
  },
  {
   "cell_type": "code",
   "execution_count": 37,
   "metadata": {},
   "outputs": [
    {
     "name": "stdout",
     "output_type": "stream",
     "text": [
      "+---------+---+----------+------+\n",
      "|     Name|Age|Experience|Salary|\n",
      "+---------+---+----------+------+\n",
      "|   Amelia| 24|         1| 30000|\n",
      "| Benjamin| 55|         9| 25000|\n",
      "|Charlotte| 82|         3| 20000|\n",
      "|    David| 87|        -1| 35000|\n",
      "|     Emma| -1|         0| 15000|\n",
      "| Jennifer| 67|         5| 25000|\n",
      "|Charlotte| 82|         3| 20000|\n",
      "|    David| -1|        -1| 35000|\n",
      "|     Emma| 43|         0| 15000|\n",
      "|    Chase| -1|         1| 10000|\n",
      "|     Adam| 34|         1| 10000|\n",
      "+---------+---+----------+------+\n",
      "\n",
      "['Name', 'Age', 'Experience', 'Salary']\n"
     ]
    }
   ],
   "source": [
    "# Fill missing values\n",
    "# Fill missing values with specified value, corresponding the dtype of the Schema(double check that).\n",
    "df_pyspark.na.fill(value=-1,).show()\n",
    "print(df_pyspark.columns)"
   ]
  },
  {
   "cell_type": "code",
   "execution_count": 38,
   "metadata": {},
   "outputs": [],
   "source": [
    "from pyspark.ml.feature import Imputer\n",
    "\n",
    "# Take the given dataframe columns as input and calculate the mean dataframe's mean,\n",
    "# to fill missing values in the output columns that are added to the dataframe with format:\n",
    "# \"{input_column}_imputed\"\n",
    "imputer = Imputer(\n",
    "    inputCols=df_pyspark.columns[1:],\n",
    "    outputCols=[\"{}_imputed\".format(col) for col in df_pyspark.columns[1:]]\n",
    ").setStrategy(\"mean\")"
   ]
  },
  {
   "cell_type": "code",
   "execution_count": 39,
   "metadata": {},
   "outputs": [
    {
     "name": "stdout",
     "output_type": "stream",
     "text": [
      "+---------+----+----------+------+-----------+------------------+--------------+\n",
      "|     Name| Age|Experience|Salary|Age_imputed|Experience_imputed|Salary_imputed|\n",
      "+---------+----+----------+------+-----------+------------------+--------------+\n",
      "|   Amelia|  24|         1| 30000|         24|                 1|         30000|\n",
      "| Benjamin|  55|         9| 25000|         55|                 9|         25000|\n",
      "|Charlotte|  82|         3| 20000|         82|                 3|         20000|\n",
      "|    David|  87|      NULL| 35000|         87|                 2|         35000|\n",
      "|     Emma|NULL|         0| 15000|         59|                 0|         15000|\n",
      "| Jennifer|  67|         5| 25000|         67|                 5|         25000|\n",
      "|Charlotte|  82|         3| 20000|         82|                 3|         20000|\n",
      "|    David|NULL|      NULL| 35000|         59|                 2|         35000|\n",
      "|     Emma|  43|         0| 15000|         43|                 0|         15000|\n",
      "|    Chase|NULL|         1| 10000|         59|                 1|         10000|\n",
      "|     Adam|  34|         1| 10000|         34|                 1|         10000|\n",
      "+---------+----+----------+------+-----------+------------------+--------------+\n",
      "\n"
     ]
    }
   ],
   "source": [
    "imputer.fit(df_pyspark).transform(df_pyspark).show()"
   ]
  }
 ],
 "metadata": {
  "kernelspec": {
   "display_name": "Apache-Spark",
   "language": "python",
   "name": "apache-spark"
  },
  "language_info": {
   "codemirror_mode": {
    "name": "ipython",
    "version": 3
   },
   "file_extension": ".py",
   "mimetype": "text/x-python",
   "name": "python",
   "nbconvert_exporter": "python",
   "pygments_lexer": "ipython3",
   "version": "3.10.12"
  }
 },
 "nbformat": 4,
 "nbformat_minor": 2
}
